{
 "cells": [
  {
   "cell_type": "markdown",
   "metadata": {},
   "source": [
    "# Week 0 "
   ]
  },
  {
   "attachments": {},
   "cell_type": "markdown",
   "metadata": {},
   "source": [
    "### SLU00 - Jupyter Notebook: Learning notebook\n",
    "\n",
    "#### How to use use jupyter notebooks"
   ]
  },
  {
   "cell_type": "markdown",
   "metadata": {},
   "source": [
    "- The jupyter notebook stores information in memory and deleting the cell does not erase this information from memory. \n",
    "- Restarting the notebook will erase everything from the kernel memory and when you run all cells again only the current code cells will be considered\n"
   ]
  },
  {
   "attachments": {},
   "cell_type": "markdown",
   "metadata": {},
   "source": [
    "#### Shortcuts"
   ]
  },
  {
   "attachments": {},
   "cell_type": "markdown",
   "metadata": {},
   "source": [
    "#### Markdown cells\n",
    "\n",
    "- \"M\" the cell will change to markdown\n",
    "- \"Y\" will change the cell back to code\n",
    "\n",
    "\\#\\# This is how you can create a header in markdown\n",
    "\n",
    "And to create a list:\n",
    "\n",
    "\\- Banana\n",
    "\n",
    "\\- Papaya\n",
    "\n",
    "\\- Orange"
   ]
  },
  {
   "cell_type": "markdown",
   "metadata": {},
   "source": [
    "### List \n",
    "- `Enter`: goes back to the edit mode \n",
    "- `Shift + enter`: runs the current cell and create a new one under ir  \n",
    "- `Ctrl + enter`: runs just the current cell\n",
    "\n",
    "### Tip: \n",
    "On “Help” in the menu bar, you can edit keyboard shortcuts, search for “restart kernel and run all cells” and type ctrl + R in the add shortcut \n",
    "\n",
    "\n",
    "\n"
   ]
  },
  {
   "cell_type": "markdown",
   "metadata": {},
   "source": [
    "# Week 1"
   ]
  },
  {
   "cell_type": "markdown",
   "metadata": {},
   "source": [
    "## SLU01 Command Line & Text Editor - Learning Notebook 1\n",
    "***"
   ]
  },
  {
   "cell_type": "markdown",
   "metadata": {},
   "source": [
    "### Command Line"
   ]
  },
  {
   "cell_type": "markdown",
   "metadata": {},
   "source": [
    "A `command-line interface (CLI)` processes commands to a computer program in the form of lines of text. The program which handles the interface is called a command line interpreter or command line processor.\n"
   ]
  },
  {
   "cell_type": "markdown",
   "metadata": {},
   "source": [
    "`Shell` is a computer program which exposes an operating system to a human user or other program. In general, operating system shells use either a CLI or graphical user interface (GUI), depending on a computer’s role and particular operation. Is it named a shell because it is the outermost layer around the operating system. "
   ]
  },
  {
   "cell_type": "markdown",
   "metadata": {},
   "source": [
    "### 1.1 | Understanding the file system tree\n",
    "\n",
    "Just as in Windows, a Unix-like operating system such as Linux organizes its files\n",
    "in what is called a *hierarchical directory structure*\n",
    "\n",
    "The first directory in the file system is called the *root directory*. The root directory contains files and subdirectories"
   ]
  },
  {
   "cell_type": "markdown",
   "metadata": {},
   "source": [
    "### 1.2 | `pwd`: Print Working Directory\n",
    "At any given time, as Linux user, you’ll be inside a single directory that may or may not contain files and other subdirectories. The directory where you are standing in will always be called **current working directory**. \n",
    "\n",
    "To display the current directory path we use the command `pwd` At any given time, as Linux user, you’ll be inside a single directory that may or may not contain files and other subdirectories. The directory where you are standing in will always be called current working directory. To display the current directory path we use the command pwd"
   ]
  },
  {
   "cell_type": "markdown",
   "metadata": {},
   "source": [
    "### 1.3 | `ls`: List directory contents\n",
    "To list the files and directories in the current working directory, we use the `ls` command.\n",
    "\n",
    "Using `ls` command with the `-a` option will list all files in the current working directory, even those that begin with a **.** which are hidden files, thus normally not listed.\n",
    "\n",
    "Aliases:\n",
    "* `~` points to `home/tortoise/`\n",
    "* `.` points to the current working directory, in this case `/home/tortoise`\n",
    "* `..` points to the parent directory of the current working directory, in this case `/home`"
   ]
  },
  {
   "cell_type": "markdown",
   "metadata": {},
   "source": [
    "### 1.4 | `cd`: Change Directory\n",
    "It is possible to change the working directory by using the `cd` **change directory** command"
   ]
  },
  {
   "cell_type": "markdown",
   "metadata": {},
   "source": [
    "### 1.5 | `mkdir`: Make Directory\n",
    "The `mkdir` command is used to create directories."
   ]
  },
  {
   "cell_type": "markdown",
   "metadata": {},
   "source": [
    "### 1.6 | `touch`: Create new empty file\n"
   ]
  },
  {
   "cell_type": "markdown",
   "metadata": {},
   "source": [
    "### 1.7 | `cp`: Copy files and directories\n",
    "The `cp` command copies files or directories and can be used in many different ways."
   ]
  },
  {
   "cell_type": "markdown",
   "metadata": {},
   "source": [
    "### 1.8 | `mv`: Move / rename files and directories\n",
    "\n",
    "The `mv` command performs both file moving and file renaming, depending on how it is used.\n"
   ]
  },
  {
   "cell_type": "markdown",
   "metadata": {},
   "source": [
    "### 1.9 | `rm`: Remove files and directories"
   ]
  },
  {
   "cell_type": "markdown",
   "metadata": {},
   "source": [
    "### 1.10 | `cat`: Print files\n",
    "The `cat` command reads one or more files and prints their contents to the command line, for instance in the following example running the `cat` command will print the content of the README.md file:"
   ]
  },
  {
   "cell_type": "markdown",
   "metadata": {},
   "source": []
  },
  {
   "cell_type": "markdown",
   "metadata": {},
   "source": [
    "# Week 2"
   ]
  },
  {
   "cell_type": "markdown",
   "metadata": {},
   "source": [
    "## SLU03 - Git Basics\n"
   ]
  },
  {
   "cell_type": "markdown",
   "metadata": {},
   "source": [
    "#### <a name=\"1_3_Version Control System (VCS) \"></a>1.3 Version Control System (VCS)\n",
    "- Records changes to a file or set of files over time so that you can recall specific versions later. \n",
    "- It allows you to revert selected files to a previous state, revert the entire file, compare changes over time, see who last modified something.\n",
    "- There are a lot of decentralised services for VCS such as GitHub, GitLab and BitBucket and all of them rely on Git, the VCS that is fueling all of these services \n",
    "\n"
   ]
  },
  {
   "cell_type": "markdown",
   "metadata": {},
   "source": [
    "#### <a name=\"1_2_Collaboration\"></a>1.2 Collaboration\n",
    "- VCS were developed to solve the problem of multiple people working together on the same project\n",
    "- Each person works on their own copy and when they're done, the changes are merged back to the original file resolving conflicts along the way \n"
   ]
  },
  {
   "cell_type": "markdown",
   "metadata": {},
   "source": [
    "#### <a name=\"1_3_Storing_versions_properly\"></a>1.3 Storing versions properly\n",
    "\n",
    "- Saving a version of your project after making changes is call commit\n",
    "Tip: don’t commit broken or unfinished work. Your future self will have zero clue about what was going wrong\n",
    "- Commit asks for a message this helps you and other collaboration with you , know what is going on \n",
    "- In the end when using a VCS, because everything is being stored on a server (such as GitHub), you only have one version of the project that you’re currently working on your disk. Everything else, all the past versions and variants - is neatly packed inside the VCS. when/ if you need them, you can request any version at any time \n"
   ]
  },
  {
   "cell_type": "markdown",
   "metadata": {},
   "source": [
    "#### <a name=\"1_4_Auditability\"></a>1.4 Auditability\n",
    "- VCS offers you an easy way to track who made what change and when. Is unlocks the ability to: \n",
    "    - Debug more effectively by finding when a breaking change was introduced \n",
    "    - Track the reason why certain changes were made. \n",
    "    - Find the right person who made a change and ask them why they did it \n"
   ]
  },
  {
   "cell_type": "markdown",
   "metadata": {},
   "source": [
    "### <a name=\"2_Repositories_where_it_all_begins\"></a>2. Repositories: where it all begins\n",
    "Is simply a place that stores and tracks changes to the files contained in it. It associates identities with changes to those files "
   ]
  },
  {
   "cell_type": "markdown",
   "metadata": {},
   "source": [
    "### <a name=\"2_2_README\"></a>2.2. README\n",
    "\n",
    "- Is probably the single most important documento in a repository. Is is the starting point, meaning that someone will know what the repository is all about  \n",
    "- Is it the documentation of the repo \n",
    "- Is used markdown \n",
    "- The .md extension identifies markdown files \n"
   ]
  },
  {
   "cell_type": "markdown",
   "metadata": {},
   "source": [
    "### <a name=\"2_3_gitignore\"></a>2.3 .gitignore\n",
    "\n",
    "- The .gitignore Is a special file that contain information about files, file types , and/or directories in your git repo that you do not want to track automatically  \n",
    "- Is is very easy to accidentally commit a file that you never intended to make available in the repository, and gitignore file lets Git know that it should ignore certain files and not track them\n",
    "- Which files would you normally not want to track?\n",
    "    - Any file with more than 2MB, so always include the dataset that you’re using\n",
    "    - Log files \n",
    "    - Files with API keys/secrets, credentials, or sensitive information \n",
    "    - Useless system files such as the annoying mac.DS_store\n",
    "    - Dependencies which can be downloaded from a package manager. They already have their own VC systems and you only need a particular version of it \n",
    "- You can use www.gitignore.io or www.github.com/github/gitignore to help you to tell what to ignore depending on your operating system, text editor or IDE and frameworks \n",
    "- Additionally when setting up a repository, GitHub allows you to add a pre-set .gitignore file depending on the language you’re using \n",
    "- To include files in the .gitignore just type the name of the file. The same thing for directories, except that directories should end with a slash (/)\n",
    "- Ignoring any file with a given extension: some slightly more advanced ways of excluding files make use of the wildcard (*) . if you want to exclude every .log file you would include *.log in your gitignore \n",
    "- You can use `!` to specifically negate a fil that would be ignored \n",
    "\n"
   ]
  },
  {
   "cell_type": "markdown",
   "metadata": {},
   "source": [
    "### <a name=\"3_Working_with_Git_the_basics\"></a>3. Working with Git: the basics\n",
    "**Technical terms**: \n",
    "- The workspace consists of files that you are currently working on. You can think of the workspace as a file system where you can view and modify files \n",
    "- The staging area is where commits are prepared. Is basically represents the snapshots of files taken at a given time that you plan to mode to the local repository. It allows you to group file snapshots that should be committed together because the changes you made in them are somehow related. It’s also referred as index, because the list that contains the file snapshots is stored in a file named index. \n",
    "- The local repository holds all the commits. Once the file snapshots are committed to the local repository they disappear from the staging area.\n"
   ]
  },
  {
   "cell_type": "markdown",
   "metadata": {},
   "source": [
    "**The basic Git workflow:**\n",
    "1. You modify files in your working tree\n",
    "2. You selectively stage just those changes that you want to be part of your next commit\n",
    "3. You do a commit, which takes the files as they are in the staging area and stores these versions permanently to your local repository\n",
    "4. You again start modifying your files and the cycle continues\n",
    "\n"
   ]
  },
  {
   "cell_type": "markdown",
   "metadata": {},
   "source": [
    "### <a name=\"3_1_Main_Git_commands\"></a>3.1 Main Git commands\n",
    "\n",
    "### <a name=\"git_add\"></a>`git add`\n",
    "Adds snapshots of selected files in the working directory to the staging area. It tells Git that you want to include the current version of these files in the next commit \n",
    "<img width=\"500\" src=\"https://imgur.com/Qit7nJ2.png\"/>\n",
    "\n",
    "Useful command options:\n",
    "- `git add <file>` stages a snapshot of the given file for the next commit.\n",
    "- `git add <file1> <file2>` stages the snapshots of these two files for the next commit. You can include more than two files.\n",
    "- `git add <directory>` stages a snapshot of the directory for the next commit.\n",
    "- `git add .` stages **everything** in your current directory for the next commit."
   ]
  },
  {
   "cell_type": "markdown",
   "metadata": {},
   "source": [
    "### <a name=\"git_commit\"></a>`git commit `\n",
    "Stores the snapshots of the files that you have in the staging area to the local repository\n",
    "<img width=\"500\" src=\"https://imgur.com/Dh1vMsm.png\"/>\n",
    "\n",
    "Other useful command options:\n",
    "- `git commit -a` will check if the files in the staging area have changed after being staged and if so, restage them. Then all staged files are committed.\n",
    "- `git commit --amend` modifies the last commit so that currently staged files will be added to it.\n"
   ]
  },
  {
   "cell_type": "markdown",
   "metadata": {},
   "source": [
    "### <a name=\"git_push\"></a>`git push`\n",
    "Is used to upload local repository content to a remote repository. Pushing is how you transfer commits from your local repository to a remote repo. The push will share the modifications you made with remote team members \n",
    "\n",
    "![image](media/git_push.png)"
   ]
  },
  {
   "cell_type": "markdown",
   "metadata": {},
   "source": [
    "### <a name=\"git_pull\"></a>`git pull`\n",
    "is used to fetch and download content from a remote repository and immediately update the local repository to match that content. It’s an easy way to synchronize your local repository with upstream changes. In a way, the opposite of the `git push` command.\n",
    "![image](media/git_pull.png"
   ]
  },
  {
   "cell_type": "markdown",
   "metadata": {},
   "source": [
    "### <a name=\"git_status\"></a>`git status`\n",
    "It lets you see the status of the files in your workspace and the staging area. The files in these two areas have 4 possible states: \n",
    "\n",
    "- **New**: files in the staging area that were not committed before in this workspace (newly tracked)\n",
    "- **Modified**: tracked files in the workspace or staging area that have changed since you last staged or committed them\n",
    "- **Unmodified**: tracked files in the workspace or staging area that were not changed since you last staged or committed them\n",
    "- **Untracked**: files that were not yet staged or committed in this workspace, e.g newly created files\n",
    "\n",
    "![image](media/git_circle_of_life.png)\n"
   ]
  },
  {
   "cell_type": "markdown",
   "metadata": {},
   "source": [
    "### <a name=\"git_log\"></a>`git log`\n",
    "\n",
    "Shows the contents of the Git log file - the commit history of the local repo. The log file will help you in case you need to revert to a previous commit. \n",
    "\n",
    "Other useful command options:\n",
    "- `git log -n <limit>` shows the last n commits. For example, `git log -n 3` will display only the last 3 commits.\n",
    "- `git log -- stat` includes the information about which files were altered and the number of lines that were added or deleted from each of them.\n",
    "- `git log --author=\"<pattern>\"` filters the commits by the person who made changes in the committed files. For those of you who are familiar with regular expressions, you can also use a regular expression instead of a string.\n",
    "- `git log --grep=\"<pattern>\"` filters the commits by searching for a specific pattern in the commit message. One example would be to filter commits that mention a specific detail you're interested in. Again, you can search for a string or use a regular expression.\n",
    "- `git log <file>` shows only the commits that include the specified file."
   ]
  },
  {
   "cell_type": "markdown",
   "metadata": {},
   "source": []
  },
  {
   "cell_type": "markdown",
   "metadata": {},
   "source": [
    "## SLU04 - Data Structutes "
   ]
  },
  {
   "cell_type": "markdown",
   "metadata": {},
   "source": [
    "### 1 Data Structure - Tuple <a name=\"1\"></a>"
   ]
  },
  {
   "cell_type": "markdown",
   "metadata": {},
   "source": [
    "##### 1.1.1 Definition <a name=\"1.1.1\"></a>"
   ]
  },
  {
   "cell_type": "markdown",
   "metadata": {},
   "source": [
    "- Is a Python data structure that has a collection of data `once created cannot be changed` \n",
    "- It's ordered and accepts duplicated elements \n",
    "- Elements on a tuple shoul be between brackets `()` and separated commas \n",
    "- Can have as many elements as we want, and from different types \n"
   ]
  },
  {
   "cell_type": "code",
   "execution_count": 1,
   "metadata": {},
   "outputs": [
    {
     "data": {
      "text/plain": [
       "(0, 1, 2, 3, 4)"
      ]
     },
     "execution_count": 1,
     "metadata": {},
     "output_type": "execute_result"
    }
   ],
   "source": [
    "this_tuple = (0, 1, 2, 3, 4)\n",
    "this_tuple"
   ]
  },
  {
   "cell_type": "markdown",
   "metadata": {},
   "source": [
    "##### 1.1.2 Function `type()` and `isinstance()` <a name=\"1.1.2\"></a>"
   ]
  },
  {
   "cell_type": "markdown",
   "metadata": {},
   "source": [
    "We have two ways of confirming that a variable is of a certain type. We can use __`type()`__ function or __`isinstance()`__ function.   \n",
    "- __`type()`__ function receives a variable as an input and returns its type.\n",
    "- __`isinstance()`__ function receives a variable and a type variable as inputs. It returns `True` if the input variable matches the input type and `False` otherwise."
   ]
  },
  {
   "cell_type": "code",
   "execution_count": 2,
   "metadata": {},
   "outputs": [
    {
     "data": {
      "text/plain": [
       "tuple"
      ]
     },
     "execution_count": 2,
     "metadata": {},
     "output_type": "execute_result"
    }
   ],
   "source": [
    "type(this_tuple) #This function returns the variable type of this_tuple"
   ]
  },
  {
   "cell_type": "markdown",
   "metadata": {},
   "source": [
    "##### 1.1.3 Tuples creation <a name=\"1.1.3\"></a>"
   ]
  },
  {
   "cell_type": "markdown",
   "metadata": {},
   "source": [
    "It is possible to create a tuple with `elements of multiple types`."
   ]
  },
  {
   "cell_type": "code",
   "execution_count": 3,
   "metadata": {},
   "outputs": [
    {
     "data": {
      "text/plain": [
       "(1.5, 'hello', True, 'book')"
      ]
     },
     "execution_count": 3,
     "metadata": {},
     "output_type": "execute_result"
    }
   ],
   "source": [
    "#types (float, str and boolean)\n",
    "this_tuple = (1.5, \"hello\", True, \"book\")\n",
    "this_tuple"
   ]
  },
  {
   "cell_type": "markdown",
   "metadata": {},
   "source": [
    "Tuples can have `duplicated elements`. Note that elements do not get reordered."
   ]
  },
  {
   "cell_type": "code",
   "execution_count": 4,
   "metadata": {},
   "outputs": [
    {
     "data": {
      "text/plain": [
       "(1, 1, 3, 7, 7, 7, 5)"
      ]
     },
     "execution_count": 4,
     "metadata": {},
     "output_type": "execute_result"
    }
   ],
   "source": [
    "#a tuple with duplicated values\n",
    "this_tuple = (1, 1, 3, 7, 7, 7, 5)\n",
    "this_tuple"
   ]
  },
  {
   "cell_type": "markdown",
   "metadata": {},
   "source": [
    "Is it possible to have an `empty tuple`"
   ]
  },
  {
   "cell_type": "code",
   "execution_count": 5,
   "metadata": {},
   "outputs": [
    {
     "data": {
      "text/plain": [
       "tuple"
      ]
     },
     "execution_count": 5,
     "metadata": {},
     "output_type": "execute_result"
    }
   ],
   "source": [
    "this_tuple = ()\n",
    "type(this_tuple)"
   ]
  },
  {
   "cell_type": "markdown",
   "metadata": {},
   "source": [
    "We can also create an empty tuple using the function __`tuple()`__."
   ]
  },
  {
   "cell_type": "code",
   "execution_count": 6,
   "metadata": {},
   "outputs": [
    {
     "data": {
      "text/plain": [
       "tuple"
      ]
     },
     "execution_count": 6,
     "metadata": {},
     "output_type": "execute_result"
    }
   ],
   "source": [
    "this_tuple = tuple()\n",
    "type(this_tuple)"
   ]
  },
  {
   "cell_type": "markdown",
   "metadata": {},
   "source": [
    "It is possible to create a tuple with `more than one element without writing brackets`."
   ]
  },
  {
   "cell_type": "code",
   "execution_count": 7,
   "metadata": {},
   "outputs": [
    {
     "data": {
      "text/plain": [
       "True"
      ]
     },
     "execution_count": 7,
     "metadata": {},
     "output_type": "execute_result"
    }
   ],
   "source": [
    "this_tuple = 1.5, \"hello\", True, \"book\"\n",
    "isinstance(this_tuple, tuple)"
   ]
  },
  {
   "cell_type": "markdown",
   "metadata": {},
   "source": [
    "With just one element "
   ]
  },
  {
   "cell_type": "code",
   "execution_count": 8,
   "metadata": {},
   "outputs": [
    {
     "data": {
      "text/plain": [
       "False"
      ]
     },
     "execution_count": 8,
     "metadata": {},
     "output_type": "execute_result"
    }
   ],
   "source": [
    "\n",
    "this_tuple = \"book\"\n",
    "isinstance(this_tuple, tuple)"
   ]
  },
  {
   "cell_type": "markdown",
   "metadata": {},
   "source": [
    "Tuple of tuples."
   ]
  },
  {
   "cell_type": "code",
   "execution_count": 9,
   "metadata": {},
   "outputs": [
    {
     "data": {
      "text/plain": [
       "True"
      ]
     },
     "execution_count": 9,
     "metadata": {},
     "output_type": "execute_result"
    }
   ],
   "source": [
    "this_tuple = ((1,2), (3,4), (4,5))\n",
    "isinstance(this_tuple, tuple)"
   ]
  },
  {
   "cell_type": "markdown",
   "metadata": {},
   "source": [
    "#### 1.2 Tuple length and accessing to specific elements <a name=\"1.2\"></a>"
   ]
  },
  {
   "cell_type": "markdown",
   "metadata": {},
   "source": [
    "#### 1.2.1 Length <a name=\"1.2.1\"></a>"
   ]
  },
  {
   "cell_type": "markdown",
   "metadata": {},
   "source": [
    "We can use the function __`len()`__ in order to check how many elements a tuple has."
   ]
  },
  {
   "cell_type": "code",
   "execution_count": 10,
   "metadata": {},
   "outputs": [
    {
     "data": {
      "text/plain": [
       "5"
      ]
     },
     "execution_count": 10,
     "metadata": {},
     "output_type": "execute_result"
    }
   ],
   "source": [
    "this_tuple = (0, 1, 2, 3, 4)\n",
    "len(this_tuple) "
   ]
  },
  {
   "cell_type": "markdown",
   "metadata": {},
   "source": [
    "#### 1.2.2 Indexing <a name=\"1.2.2\"></a>"
   ]
  },
  {
   "cell_type": "markdown",
   "metadata": {},
   "source": [
    "__Positive Indexing__ is done from left to right, starts with zero for the first position of the tuple and goes until the last position that is indexed with the value  \n",
    "(size of the tuple - 1). "
   ]
  },
  {
   "cell_type": "markdown",
   "metadata": {},
   "source": [
    "__Negative Indexing__ is done from right to left, starts with -1 for the last element of the tuple and goes until -(size of the tuple) for the first element. "
   ]
  },
  {
   "cell_type": "markdown",
   "metadata": {},
   "source": [
    "Extracting `\"tomato\"` from the tuple `fruit` using __positive indexing__:"
   ]
  },
  {
   "cell_type": "code",
   "execution_count": 11,
   "metadata": {},
   "outputs": [
    {
     "data": {
      "text/plain": [
       "'tomato'"
      ]
     },
     "execution_count": 11,
     "metadata": {},
     "output_type": "execute_result"
    }
   ],
   "source": [
    "fruit = (\"banana\", \"apple\", \"tomato\", \"watermelon\", \"pineapple\")\n",
    "fruit[2]"
   ]
  },
  {
   "cell_type": "markdown",
   "metadata": {},
   "source": [
    "Extracting \"`tomato`\" from the tuple `fruit` using __negative indexing__:"
   ]
  },
  {
   "cell_type": "code",
   "execution_count": 12,
   "metadata": {},
   "outputs": [
    {
     "data": {
      "text/plain": [
       "'tomato'"
      ]
     },
     "execution_count": 12,
     "metadata": {},
     "output_type": "execute_result"
    }
   ],
   "source": [
    "fruit[-3]"
   ]
  },
  {
   "cell_type": "markdown",
   "metadata": {},
   "source": [
    "Using positive indexing but making use of the function __`len()`__:   \n",
    "__Note__: This might be useful when we don't know the size of the tuple."
   ]
  },
  {
   "cell_type": "code",
   "execution_count": 13,
   "metadata": {},
   "outputs": [
    {
     "data": {
      "text/plain": [
       "'pineapple'"
      ]
     },
     "execution_count": 13,
     "metadata": {},
     "output_type": "execute_result"
    }
   ],
   "source": [
    "fruit[len(fruit)-1]"
   ]
  },
  {
   "cell_type": "markdown",
   "metadata": {},
   "source": [
    "Extracting an element of a tuple that is inside another tuple"
   ]
  },
  {
   "cell_type": "code",
   "execution_count": 14,
   "metadata": {},
   "outputs": [
    {
     "data": {
      "text/plain": [
       "('green apple', 'kiwi', 'pear')"
      ]
     },
     "execution_count": 14,
     "metadata": {},
     "output_type": "execute_result"
    }
   ],
   "source": [
    "fruit_by_color = ((\"strawberry\", \"cherry\"), (\"green apple\", \"kiwi\", \"pear\"), (\"mango\", \"papaya\"))\n",
    "green_fruit = fruit_by_color[1]\n",
    "green_fruit"
   ]
  },
  {
   "cell_type": "code",
   "execution_count": 15,
   "metadata": {},
   "outputs": [
    {
     "data": {
      "text/plain": [
       "'pear'"
      ]
     },
     "execution_count": 15,
     "metadata": {},
     "output_type": "execute_result"
    }
   ],
   "source": [
    "green_fruit[2]"
   ]
  },
  {
   "cell_type": "code",
   "execution_count": 16,
   "metadata": {},
   "outputs": [
    {
     "data": {
      "text/plain": [
       "'pear'"
      ]
     },
     "execution_count": 16,
     "metadata": {},
     "output_type": "execute_result"
    }
   ],
   "source": [
    "fruit_by_color[1][2]"
   ]
  },
  {
   "cell_type": "markdown",
   "metadata": {},
   "source": [
    "#### 1.2.3 Slicing <a name=\"1.2.3\"></a>"
   ]
  },
  {
   "cell_type": "markdown",
   "metadata": {},
   "source": [
    "To extract more than one element    \n",
    "We need to know the starting position of the slice that we want and the stop position.   "
   ]
  },
  {
   "cell_type": "markdown",
   "metadata": {},
   "source": [
    "#### <center>Tuple[start:stop:step]   <center/>    "
   ]
  },
  {
   "cell_type": "markdown",
   "metadata": {},
   "source": [
    "To slice a tuple, start, stop and step positions should be between square brackets `[]` and separated by colon `:`.\n",
    "\n",
    "- __start=n__: the beginning index of the slice; it includes the element at this index unless it is the same as stop; its default value is 0, i.e. the first index. If it's negative, it means to start n items from the end.\n",
    "\n",
    "- __stop=n__: the ending index of the slice; it __excludes__ the element at this index; it defaults to the length of the sequence being sliced, that is, up to and including the end. If it's negative, it means to stop -n + 1 items from the end.\n",
    "\n",
    "- __step=n__: the amount by which the index increases; its default value is 1. If it's negative, you're slicing over the iterable in reverse."
   ]
  },
  {
   "cell_type": "code",
   "execution_count": 17,
   "metadata": {},
   "outputs": [
    {
     "data": {
      "text/plain": [
       "('M', 'o', 'n', 't', 'y')"
      ]
     },
     "execution_count": 17,
     "metadata": {},
     "output_type": "execute_result"
    }
   ],
   "source": [
    "monty_python = (\"M\", \"o\", \"n\", \"t\", \"y\",\" \", \"P\", \"y\", \"t\", \"h\", \"o\", \"n\")\n",
    "#start=-12\n",
    "#stop=-7\n",
    "#step=1\n",
    "monty_python[-12:-7]"
   ]
  },
  {
   "cell_type": "code",
   "execution_count": 18,
   "metadata": {},
   "outputs": [
    {
     "data": {
      "text/plain": [
       "('P', 'y', 't', 'h')"
      ]
     },
     "execution_count": 18,
     "metadata": {},
     "output_type": "execute_result"
    }
   ],
   "source": [
    "#start=6\n",
    "#stop=10\n",
    "#step=1\n",
    "monty_python[6:10]"
   ]
  },
  {
   "cell_type": "code",
   "execution_count": 19,
   "metadata": {},
   "outputs": [
    {
     "data": {
      "text/plain": [
       "('tomato', 'watermelon', 'pineapple')"
      ]
     },
     "execution_count": 19,
     "metadata": {},
     "output_type": "execute_result"
    }
   ],
   "source": [
    "fruit \n",
    "fruit[2:]"
   ]
  },
  {
   "cell_type": "code",
   "execution_count": 20,
   "metadata": {},
   "outputs": [
    {
     "data": {
      "text/plain": [
       "('tomato', 'pineapple')"
      ]
     },
     "execution_count": 20,
     "metadata": {},
     "output_type": "execute_result"
    }
   ],
   "source": [
    "#step = 2 \n",
    "fruit[2:5:2]"
   ]
  },
  {
   "cell_type": "code",
   "execution_count": 21,
   "metadata": {},
   "outputs": [
    {
     "data": {
      "text/plain": [
       "('banana', 'tomato', 'pineapple')"
      ]
     },
     "execution_count": 21,
     "metadata": {},
     "output_type": "execute_result"
    }
   ],
   "source": [
    "#starting on the first position until the last \n",
    "fruit[::2]"
   ]
  },
  {
   "cell_type": "code",
   "execution_count": 22,
   "metadata": {},
   "outputs": [
    {
     "data": {
      "text/plain": [
       "('pineapple', 'tomato')"
      ]
     },
     "execution_count": 22,
     "metadata": {},
     "output_type": "execute_result"
    }
   ],
   "source": [
    "#negative indexing \n",
    "fruit[-1:-4:-2]"
   ]
  },
  {
   "cell_type": "code",
   "execution_count": 23,
   "metadata": {},
   "outputs": [
    {
     "data": {
      "text/plain": [
       "('pineapple', 'watermelon')"
      ]
     },
     "execution_count": 23,
     "metadata": {},
     "output_type": "execute_result"
    }
   ],
   "source": [
    "#mixing negative with positive indexes\n",
    "fruit[5:2:-1]"
   ]
  },
  {
   "cell_type": "markdown",
   "metadata": {},
   "source": [
    "#### 1.3 Membership test<a name=\"1.3\"></a>"
   ]
  },
  {
   "cell_type": "markdown",
   "metadata": {},
   "source": [
    "Sometimes, you may want to check if a certain element belongs to a tuple or if a specific element matches a value.  \n",
    "In order to do that, we can use the keywords __`in`__ or __`not in`__. The returned value is `True` if the condition is verified and `False` otherwise."
   ]
  },
  {
   "cell_type": "code",
   "execution_count": 24,
   "metadata": {},
   "outputs": [
    {
     "data": {
      "text/plain": [
       "True"
      ]
     },
     "execution_count": 24,
     "metadata": {},
     "output_type": "execute_result"
    }
   ],
   "source": [
    "\"banana\" in fruit"
   ]
  },
  {
   "cell_type": "code",
   "execution_count": 25,
   "metadata": {},
   "outputs": [
    {
     "data": {
      "text/plain": [
       "False"
      ]
     },
     "execution_count": 25,
     "metadata": {},
     "output_type": "execute_result"
    }
   ],
   "source": [
    "\"Python\" in fruit"
   ]
  },
  {
   "cell_type": "code",
   "execution_count": 26,
   "metadata": {},
   "outputs": [
    {
     "data": {
      "text/plain": [
       "False"
      ]
     },
     "execution_count": 26,
     "metadata": {},
     "output_type": "execute_result"
    }
   ],
   "source": [
    "\"banana\" not in fruit"
   ]
  },
  {
   "cell_type": "markdown",
   "metadata": {},
   "source": [
    "To verify if a specific element inside a tuple matches a certain value. "
   ]
  },
  {
   "cell_type": "code",
   "execution_count": 27,
   "metadata": {},
   "outputs": [
    {
     "data": {
      "text/plain": [
       "True"
      ]
     },
     "execution_count": 27,
     "metadata": {},
     "output_type": "execute_result"
    }
   ],
   "source": [
    "fruit [0] == \"banana\""
   ]
  },
  {
   "cell_type": "code",
   "execution_count": 28,
   "metadata": {},
   "outputs": [
    {
     "data": {
      "text/plain": [
       "False"
      ]
     },
     "execution_count": 28,
     "metadata": {},
     "output_type": "execute_result"
    }
   ],
   "source": [
    "fruit[0] != \"banana\""
   ]
  },
  {
   "cell_type": "markdown",
   "metadata": {},
   "source": [
    "#### 1.4 Immutability <a name=\"1.4\"></a>"
   ]
  },
  {
   "cell_type": "markdown",
   "metadata": {},
   "source": [
    "Tuples are __immutable__ which means that they are unchangeable, so if we try to assign a new value to a tuple that already exists it will generate an error"
   ]
  },
  {
   "cell_type": "code",
   "execution_count": 29,
   "metadata": {},
   "outputs": [
    {
     "ename": "TypeError",
     "evalue": "'tuple' object does not support item assignment",
     "output_type": "error",
     "traceback": [
      "\u001b[1;31m---------------------------------------------------------------------------\u001b[0m",
      "\u001b[1;31mTypeError\u001b[0m                                 Traceback (most recent call last)",
      "\u001b[1;32mc:\\Users\\LuanaBrito.AzureAD\\Desktop\\Python\\ds-prep-course-2022\\luana\\Documentation.ipynb Cell 102\u001b[0m in \u001b[0;36m<cell line: 1>\u001b[1;34m()\u001b[0m\n\u001b[1;32m----> <a href='vscode-notebook-cell:/c%3A/Users/LuanaBrito.AzureAD/Desktop/Python/ds-prep-course-2022/luana/Documentation.ipynb#Y203sZmlsZQ%3D%3D?line=0'>1</a>\u001b[0m fruit[\u001b[39m0\u001b[39;49m] \u001b[39m=\u001b[39m\u001b[39m\"\u001b[39m\u001b[39mlemon\u001b[39m\u001b[39m\"\u001b[39m\n",
      "\u001b[1;31mTypeError\u001b[0m: 'tuple' object does not support item assignment"
     ]
    }
   ],
   "source": [
    "fruit[0] =\"lemon\""
   ]
  },
  {
   "cell_type": "markdown",
   "metadata": {},
   "source": [
    "#### 1.5 Adding two tuples <a name=\"1.5\"></a>"
   ]
  },
  {
   "cell_type": "markdown",
   "metadata": {},
   "source": [
    "We can create a third tuple by adding two distinct tuples."
   ]
  },
  {
   "cell_type": "code",
   "execution_count": null,
   "metadata": {},
   "outputs": [],
   "source": [
    "fruit"
   ]
  },
  {
   "cell_type": "code",
   "execution_count": null,
   "metadata": {},
   "outputs": [],
   "source": [
    "fruit_without_bananas = (\"lemons\",) + fruit[1:]\n",
    "fruit_without_bananas"
   ]
  },
  {
   "cell_type": "markdown",
   "metadata": {},
   "source": [
    "### 2 Data Structure - List <a name=\"2\"></a>"
   ]
  },
  {
   "cell_type": "markdown",
   "metadata": {},
   "source": [
    "#### 2.1 Definition and List Creation <a name=\"2.1\"></a>"
   ]
  },
  {
   "cell_type": "markdown",
   "metadata": {},
   "source": [
    "##### 2.1.1 Definition <a name=\"2.1.1\"></a>"
   ]
  },
  {
   "cell_type": "markdown",
   "metadata": {},
   "source": [
    "- Is also a collection of data \n",
    "- Can be changed after being created \n",
    "- Accepts duplicate values \n",
    "- After creation the elements are kept in the same position until explicitly changed \n",
    "- The elements are denoted using square brackets [ ] and are separated by commas ,\n",
    "- Can have multiple types of data inside\n"
   ]
  },
  {
   "cell_type": "code",
   "execution_count": null,
   "metadata": {},
   "outputs": [
    {
     "data": {
      "text/plain": [
       "[0, 1, 2, 3, 4]"
      ]
     },
     "execution_count": 4,
     "metadata": {},
     "output_type": "execute_result"
    }
   ],
   "source": [
    "this_list = [0, 1, 2, 3, 4]\n",
    "this_list"
   ]
  },
  {
   "cell_type": "markdown",
   "metadata": {},
   "source": [
    "##### 2.1.2 Tuples vs Lists <a name=\"2.1.2\"></a>"
   ]
  },
  {
   "cell_type": "markdown",
   "metadata": {},
   "source": [
    "- Besides the notation, the main difference is that lists are changeable \n",
    "- Regarding length checking, indexing, slicing and membership testing, these are done in the same way for both of them \n",
    "- Functions __`len()`__, __`type()`__ and __`isinstance()`__ can also be used with lists.\n",
    " \n"
   ]
  },
  {
   "cell_type": "markdown",
   "metadata": {},
   "source": [
    "##### 2.1.3 List creation <a name=\"2.1.3\"></a>"
   ]
  },
  {
   "cell_type": "code",
   "execution_count": null,
   "metadata": {},
   "outputs": [],
   "source": [
    "#list with multyple types \n",
    "this_list = [1.5, \"hello\", True, \"book\"]\n",
    "this_list"
   ]
  },
  {
   "cell_type": "code",
   "execution_count": null,
   "metadata": {},
   "outputs": [],
   "source": [
    "#duplicated values \n",
    "this_list = [1, 1, 1, 10, 10, 5, 5, 1]\n",
    "this_list"
   ]
  },
  {
   "cell_type": "code",
   "execution_count": null,
   "metadata": {},
   "outputs": [],
   "source": [
    "#list of lists \n",
    "this_list = [[1,2], [4,5,6], [4]]\n",
    "type(this_list)"
   ]
  },
  {
   "cell_type": "code",
   "execution_count": null,
   "metadata": {},
   "outputs": [],
   "source": [
    "#list with one element \n",
    "this_list = [1]\n",
    "type(this_list)"
   ]
  },
  {
   "cell_type": "code",
   "execution_count": null,
   "metadata": {},
   "outputs": [],
   "source": [
    "#an empty list: \n",
    "this_list = []\n",
    "type(this_list), len(this_list)"
   ]
  },
  {
   "cell_type": "code",
   "execution_count": null,
   "metadata": {},
   "outputs": [],
   "source": [
    "#an emmpy list can also be created with the function list()\n",
    "this_list = list()\n",
    "type(this_list), len(this_list) "
   ]
  },
  {
   "cell_type": "code",
   "execution_count": null,
   "metadata": {},
   "outputs": [],
   "source": [
    "#list comprehension \n",
    "this_list = [i for i in range(0, 10)]\n",
    "this_list"
   ]
  },
  {
   "cell_type": "markdown",
   "metadata": {},
   "source": [
    "#### 2.2 List length and accessing specific elements <a name=\"2.2\"></a>"
   ]
  },
  {
   "cell_type": "markdown",
   "metadata": {},
   "source": [
    "#### 2.2.1 Length <a name=\"2.2.1\"></a>"
   ]
  },
  {
   "cell_type": "code",
   "execution_count": null,
   "metadata": {},
   "outputs": [],
   "source": [
    "this_list = [0,1,2,3,4]\n",
    "len(this_list)"
   ]
  },
  {
   "cell_type": "markdown",
   "metadata": {},
   "source": [
    "#### 2.2.2 Indexing <a name=\"2.2.2\"></a>"
   ]
  },
  {
   "cell_type": "code",
   "execution_count": null,
   "metadata": {},
   "outputs": [],
   "source": [
    "#positive indexing \n",
    "fruit = [\"banana\", \"apple\", \"tomato\", \"watermelon\", \"pineapple\"]\n",
    "fruit[2]"
   ]
  },
  {
   "cell_type": "code",
   "execution_count": null,
   "metadata": {},
   "outputs": [],
   "source": [
    "#positive indexing with list of lists \n",
    "fruit_by_color = [[\"strawberry\", \"cherry\"], [\"green apple\", \"kiwi\", \"pear\"], [\"mango\", \"papaya\"]]\n",
    "fruit_by_color[1][2]"
   ]
  },
  {
   "cell_type": "code",
   "execution_count": null,
   "metadata": {},
   "outputs": [],
   "source": [
    "#negative indexing \n",
    "fruit_by_color[-1][-2]"
   ]
  },
  {
   "cell_type": "markdown",
   "metadata": {},
   "source": [
    "#### 2.2.3 Slicing <a name=\"2.2.3\"></a>"
   ]
  },
  {
   "cell_type": "markdown",
   "metadata": {},
   "source": [
    "The rules for slicing are the same for lists as the ones for tuples."
   ]
  },
  {
   "cell_type": "code",
   "execution_count": null,
   "metadata": {},
   "outputs": [],
   "source": [
    "fruit[2:4:1]"
   ]
  },
  {
   "cell_type": "markdown",
   "metadata": {},
   "source": [
    "#### 2.3 Membership test <a name=\"2.3\"></a>"
   ]
  },
  {
   "cell_type": "code",
   "execution_count": null,
   "metadata": {},
   "outputs": [],
   "source": [
    "#the same as in tuples \n",
    "\"pineapple\" in fruit"
   ]
  },
  {
   "cell_type": "code",
   "execution_count": null,
   "metadata": {},
   "outputs": [],
   "source": [
    "fruit[2] == \"tomato\""
   ]
  },
  {
   "cell_type": "markdown",
   "metadata": {},
   "source": [
    "#### 2.4 Replace, Append and Delete <a name=\"2.4\"></a>"
   ]
  },
  {
   "cell_type": "markdown",
   "metadata": {},
   "source": [
    "Unlike tuples, lists are mutable. In this way, we are able to replace, delete and append values.\n"
   ]
  },
  {
   "cell_type": "markdown",
   "metadata": {},
   "source": [
    "#### 2.4.1 Replace <a name=\"2.4.1\"></a>"
   ]
  },
  {
   "cell_type": "code",
   "execution_count": null,
   "metadata": {},
   "outputs": [],
   "source": [
    "fruit"
   ]
  },
  {
   "cell_type": "code",
   "execution_count": null,
   "metadata": {},
   "outputs": [],
   "source": [
    "fruit[3] = \"onion\"\n",
    "fruit"
   ]
  },
  {
   "cell_type": "markdown",
   "metadata": {},
   "source": [
    "#### 2.4.2 Append <a name=\"2.4.2\"></a>"
   ]
  },
  {
   "cell_type": "code",
   "execution_count": null,
   "metadata": {},
   "outputs": [],
   "source": [
    "fruit.append(\"bread\")\n",
    "fruit"
   ]
  },
  {
   "cell_type": "markdown",
   "metadata": {},
   "source": [
    "#### 2.4.3 Delete <a name=\"2.4.3\"></a>"
   ]
  },
  {
   "cell_type": "code",
   "execution_count": null,
   "metadata": {},
   "outputs": [],
   "source": [
    "del fruit[1]\n",
    "fruit"
   ]
  },
  {
   "cell_type": "code",
   "execution_count": null,
   "metadata": {},
   "outputs": [],
   "source": [
    "fruit.remove(\"banana\")\n",
    "fruit"
   ]
  },
  {
   "cell_type": "markdown",
   "metadata": {},
   "source": [
    "#### 2.5 Other Methods <a name=\"2.5\"></a>"
   ]
  },
  {
   "cell_type": "markdown",
   "metadata": {},
   "source": [
    "#### 2.5.1 `count()`"
   ]
  },
  {
   "cell_type": "markdown",
   "metadata": {},
   "source": [
    "_`count()`__ can be used in order to count how many times a specific element appears in a list."
   ]
  },
  {
   "cell_type": "code",
   "execution_count": null,
   "metadata": {},
   "outputs": [],
   "source": [
    "pizza = [\"margherita\", \"napoletana\", \"carbonara\", \"romana\", \"napoletana\", \"gorgonzola\", \"calzone\", \"napoletana\", \"romana\"]\n",
    "pizza"
   ]
  },
  {
   "cell_type": "code",
   "execution_count": null,
   "metadata": {},
   "outputs": [],
   "source": [
    "pizza.count(\"napoletana\")"
   ]
  },
  {
   "cell_type": "markdown",
   "metadata": {},
   "source": [
    "#### 2.5.2 __`index()`__"
   ]
  },
  {
   "cell_type": "code",
   "execution_count": null,
   "metadata": {},
   "outputs": [],
   "source": [
    "pizza.index(\"napoletana\")"
   ]
  },
  {
   "cell_type": "markdown",
   "metadata": {},
   "source": [
    "#### 2.5.3 __`sort()`__"
   ]
  },
  {
   "cell_type": "markdown",
   "metadata": {},
   "source": [
    "To sort in alphabetical order "
   ]
  },
  {
   "cell_type": "code",
   "execution_count": null,
   "metadata": {},
   "outputs": [],
   "source": [
    "pizza.sort()\n",
    "pizza"
   ]
  },
  {
   "cell_type": "markdown",
   "metadata": {},
   "source": [
    "#### 2.6 Converting a  tuple into a list and vice-versa <a name=\"2.6\"></a>"
   ]
  },
  {
   "cell_type": "code",
   "execution_count": null,
   "metadata": {},
   "outputs": [],
   "source": [
    "this_tuple =(\"i\", \"am\", \"a\", \"tuple\")\n",
    "type(this_tuple)"
   ]
  },
  {
   "cell_type": "code",
   "execution_count": null,
   "metadata": {},
   "outputs": [],
   "source": [
    "this_tuple = list(this_tuple)\n",
    "this_tuple"
   ]
  },
  {
   "cell_type": "code",
   "execution_count": null,
   "metadata": {},
   "outputs": [],
   "source": [
    "this_list = tuple(this_list)\n",
    "this_list"
   ]
  },
  {
   "cell_type": "markdown",
   "metadata": {},
   "source": [
    "#### 2.7 List Operations<a name=\"2.7\"></a>"
   ]
  },
  {
   "cell_type": "markdown",
   "metadata": {},
   "source": [
    "Adding two lists "
   ]
  },
  {
   "cell_type": "code",
   "execution_count": null,
   "metadata": {},
   "outputs": [
    {
     "data": {
      "text/plain": [
       "['margherita', 'napoletana', 'carbonara', 'romana', 'gorgonzola', 'calzone']"
      ]
     },
     "execution_count": 34,
     "metadata": {},
     "output_type": "execute_result"
    }
   ],
   "source": [
    "pizza = [\"margherita\", \"napoletana\", \"carbonara\", \"romana\", \"gorgonzola\", \"calzone\"]\n",
    "pizza"
   ]
  },
  {
   "cell_type": "code",
   "execution_count": null,
   "metadata": {},
   "outputs": [
    {
     "data": {
      "text/plain": [
       "['quattro stagioni', 'Frutti di Mare', 'quattro formaggi']"
      ]
     },
     "execution_count": 35,
     "metadata": {},
     "output_type": "execute_result"
    }
   ],
   "source": [
    "other_pizzas = [\"quattro stagioni\", \"Frutti di Mare\", \"quattro formaggi\"]\n",
    "other_pizzas"
   ]
  },
  {
   "cell_type": "code",
   "execution_count": null,
   "metadata": {},
   "outputs": [
    {
     "data": {
      "text/plain": [
       "['margherita',\n",
       " 'napoletana',\n",
       " 'carbonara',\n",
       " 'romana',\n",
       " 'gorgonzola',\n",
       " 'calzone',\n",
       " 'quattro stagioni',\n",
       " 'Frutti di Mare',\n",
       " 'quattro formaggi']"
      ]
     },
     "execution_count": 36,
     "metadata": {},
     "output_type": "execute_result"
    }
   ],
   "source": [
    "all_pizzas = pizza + other_pizzas\n",
    "all_pizzas"
   ]
  },
  {
   "cell_type": "markdown",
   "metadata": {},
   "source": [
    "Multiply list by a number "
   ]
  },
  {
   "cell_type": "code",
   "execution_count": null,
   "metadata": {},
   "outputs": [
    {
     "data": {
      "text/plain": [
       "['quattro stagioni',\n",
       " 'Frutti di Mare',\n",
       " 'quattro formaggi',\n",
       " 'quattro stagioni',\n",
       " 'Frutti di Mare',\n",
       " 'quattro formaggi',\n",
       " 'quattro stagioni',\n",
       " 'Frutti di Mare',\n",
       " 'quattro formaggi',\n",
       " 'quattro stagioni',\n",
       " 'Frutti di Mare',\n",
       " 'quattro formaggi',\n",
       " 'quattro stagioni',\n",
       " 'Frutti di Mare',\n",
       " 'quattro formaggi']"
      ]
     },
     "execution_count": 37,
     "metadata": {},
     "output_type": "execute_result"
    }
   ],
   "source": [
    "other_pizzas_5_x = other_pizzas * 5\n",
    "other_pizzas_5_x"
   ]
  },
  {
   "cell_type": "markdown",
   "metadata": {},
   "source": [
    "### 3 Data Structure - Dictionary <a name=\"3\"></a>"
   ]
  },
  {
   "cell_type": "markdown",
   "metadata": {},
   "source": [
    "#### 3.1 Definition and Dictionary Creation<a name=\"3.1\"></a>"
   ]
  },
  {
   "cell_type": "markdown",
   "metadata": {},
   "source": [
    "- A dictionary is a collection of key-value pairs. \n",
    "- It doesn’t support duplicated keys \n",
    "- Each unique key is mapped to a value \n",
    "- Keys and values can be of any type \n",
    "- Unordered and mutable \n",
    "- The key-value correspondence should be done with a colon `:` and consecutive pairs should be separated by commas `,`. \n",
    "- All pairs should be between curly brackets `{}`.\n"
   ]
  },
  {
   "cell_type": "code",
   "execution_count": null,
   "metadata": {},
   "outputs": [
    {
     "data": {
      "text/plain": [
       "{'strawberry': 'red', 'pear': 'green', 'mango': 'yellow', 'banana': 'yellow'}"
      ]
     },
     "execution_count": 32,
     "metadata": {},
     "output_type": "execute_result"
    }
   ],
   "source": [
    "this_dict = {\"strawberry\": \"red\", \"pear\":\"green\", \"mango\": \"yellow\", \"banana\": \"yellow\"}\n",
    "this_dict"
   ]
  },
  {
   "cell_type": "markdown",
   "metadata": {},
   "source": [
    "#### 3.1.2 Dictionary creation"
   ]
  },
  {
   "cell_type": "code",
   "execution_count": null,
   "metadata": {},
   "outputs": [
    {
     "data": {
      "text/plain": [
       "(0, dict)"
      ]
     },
     "execution_count": 1,
     "metadata": {},
     "output_type": "execute_result"
    }
   ],
   "source": [
    "this_dict = {}\n",
    "len(this_dict), type(this_dict)"
   ]
  },
  {
   "cell_type": "markdown",
   "metadata": {},
   "source": [
    "It is __not possible__ to have __duplicated keys__ in a Python dictionary. The key-value pair keeps the last value assigned to a key."
   ]
  },
  {
   "cell_type": "code",
   "execution_count": null,
   "metadata": {},
   "outputs": [
    {
     "data": {
      "text/plain": [
       "{'strawberry': 'red', 'pear': 'green', 'mango': 'yellow', 'banana': 'yellow'}"
      ]
     },
     "execution_count": 31,
     "metadata": {},
     "output_type": "execute_result"
    }
   ],
   "source": [
    "this_dict = {\"strawberry\": \"red\", \"pear\": \"green\", \"mango\": \"red\", \"banana\": \"yellow\", \"mango\": \"yellow\"}\n",
    "this_dict"
   ]
  },
  {
   "cell_type": "code",
   "execution_count": null,
   "metadata": {},
   "outputs": [
    {
     "data": {
      "text/plain": [
       "{'bread': {'type': 'grains', 'price_per_unit': 2, 'quantity_purchased': 1},\n",
       " 'onions': {'type': 'vegetables',\n",
       "  'price_per_unit': 0.5,\n",
       "  'quantity_purchased': 2},\n",
       " 'rice': {'type': 'grains', 'price_per_unit': 1, 'quantity_purchased': 2},\n",
       " 'toilet paper': {'type': 'others',\n",
       "  'price_per_unit': 50,\n",
       "  'quantity_purchased': 1000},\n",
       " 'spinaches': {'type': 'vegetables',\n",
       "  'price_per_unit': 1.5,\n",
       "  'quantity_purchased': 1}}"
      ]
     },
     "execution_count": 38,
     "metadata": {},
     "output_type": "execute_result"
    }
   ],
   "source": [
    "#dictionaries of dictionaries \n",
    "groceries = {\n",
    "             \"bread\": {\"type\": \"grains\", \"price_per_unit\": 2, \"quantity_purchased\": 1},\n",
    "             \"onions\": {\"type\": \"vegetables\", \"price_per_unit\": 0.5, \"quantity_purchased\": 2},\n",
    "             \"rice\": {\"type\": \"grains\" , \"price_per_unit\": 1, \"quantity_purchased\": 2},\n",
    "             \"toilet paper\": {\"type\": \"others\", \"price_per_unit\": 50, \"quantity_purchased\":1000},\n",
    "             \"spinaches\": {\"type\": \"vegetables\" , \"price_per_unit\": 1.5, \"quantity_purchased\": 1}\n",
    "            }\n",
    "groceries"
   ]
  },
  {
   "cell_type": "markdown",
   "metadata": {},
   "source": [
    "#### 3.2 Accessing keys and values on a dicmtionary<a name=\"3.2\"></a>"
   ]
  },
  {
   "cell_type": "markdown",
   "metadata": {},
   "source": [
    "- __Square brackets:__"
   ]
  },
  {
   "cell_type": "code",
   "execution_count": null,
   "metadata": {},
   "outputs": [
    {
     "data": {
      "text/plain": [
       "{'type': 'others', 'price_per_unit': 50, 'quantity_purchased': 1000}"
      ]
     },
     "execution_count": 41,
     "metadata": {},
     "output_type": "execute_result"
    }
   ],
   "source": [
    "toilet_paper = groceries[\"toilet paper\"]\n",
    "toilet_paper"
   ]
  },
  {
   "cell_type": "markdown",
   "metadata": {},
   "source": [
    " Since dictionaries are unordered, we are not able to search by position\n",
    " - __`get()` method:__"
   ]
  },
  {
   "cell_type": "code",
   "execution_count": null,
   "metadata": {},
   "outputs": [
    {
     "data": {
      "text/plain": [
       "{'type': 'others', 'price_per_unit': 50, 'quantity_purchased': 1000}"
      ]
     },
     "execution_count": 42,
     "metadata": {},
     "output_type": "execute_result"
    }
   ],
   "source": [
    "toilet_paper = groceries.get(\"toilet paper\")\n",
    "toilet_paper"
   ]
  },
  {
   "cell_type": "markdown",
   "metadata": {},
   "source": [
    "methods __`keys()`__ and __`values()`__ in order to get all keys in a dictionary and all values, respectively."
   ]
  },
  {
   "cell_type": "code",
   "execution_count": null,
   "metadata": {},
   "outputs": [
    {
     "data": {
      "text/plain": [
       "dict_keys(['type', 'price_per_unit', 'quantity_purchased'])"
      ]
     },
     "execution_count": 43,
     "metadata": {},
     "output_type": "execute_result"
    }
   ],
   "source": [
    "toilet_paper.keys()"
   ]
  },
  {
   "cell_type": "code",
   "execution_count": null,
   "metadata": {},
   "outputs": [
    {
     "data": {
      "text/plain": [
       "dict_values(['others', 50, 1000])"
      ]
     },
     "execution_count": 44,
     "metadata": {},
     "output_type": "execute_result"
    }
   ],
   "source": [
    "toilet_paper.values()"
   ]
  },
  {
   "cell_type": "markdown",
   "metadata": {},
   "source": [
    "__`items()`__ returns a list of tuples, with each tuple having two elements.The first element is the key, and the second element is the corresponding value"
   ]
  },
  {
   "cell_type": "code",
   "execution_count": null,
   "metadata": {},
   "outputs": [
    {
     "data": {
      "text/plain": [
       "dict_items([('type', 'others'), ('price_per_unit', 50), ('quantity_purchased', 1000)])"
      ]
     },
     "execution_count": 45,
     "metadata": {},
     "output_type": "execute_result"
    }
   ],
   "source": [
    "toilet_paper.items()"
   ]
  },
  {
   "cell_type": "markdown",
   "metadata": {},
   "source": [
    "#### 3.3 Membership test<a name=\"3.3\"></a>"
   ]
  },
  {
   "cell_type": "markdown",
   "metadata": {},
   "source": [
    "In order to test if a key belongs to a dictionary, we can use the __`in`__ or __`not in`__ notation."
   ]
  },
  {
   "cell_type": "code",
   "execution_count": null,
   "metadata": {},
   "outputs": [
    {
     "data": {
      "text/plain": [
       "{'type': 'others', 'price_per_unit': 50, 'quantity_purchased': 1000}"
      ]
     },
     "execution_count": 46,
     "metadata": {},
     "output_type": "execute_result"
    }
   ],
   "source": [
    "toilet_paper"
   ]
  },
  {
   "cell_type": "markdown",
   "metadata": {},
   "source": [
    "Let's check if `\"quantity_purchased\"` key is in the dictionary `toilet_paper`."
   ]
  },
  {
   "cell_type": "code",
   "execution_count": null,
   "metadata": {},
   "outputs": [
    {
     "data": {
      "text/plain": [
       "True"
      ]
     },
     "execution_count": 47,
     "metadata": {},
     "output_type": "execute_result"
    }
   ],
   "source": [
    "\"quantity_purchased\" in toilet_paper"
   ]
  },
  {
   "cell_type": "markdown",
   "metadata": {},
   "source": [
    "If we want to confirm if a value matches a key, we should start by indexing the value that matches our key (see <a href=\"#3.2\">section 3.2</a>) followed by __`==`__ or __`!=`__ and the value we want to compare."
   ]
  },
  {
   "cell_type": "code",
   "execution_count": null,
   "metadata": {},
   "outputs": [
    {
     "data": {
      "text/plain": [
       "True"
      ]
     },
     "execution_count": 49,
     "metadata": {},
     "output_type": "execute_result"
    }
   ],
   "source": [
    "toilet_paper[\"quantity_purchased\"] == 1000"
   ]
  },
  {
   "cell_type": "code",
   "execution_count": null,
   "metadata": {},
   "outputs": [
    {
     "data": {
      "text/plain": [
       "True"
      ]
     },
     "execution_count": 50,
     "metadata": {},
     "output_type": "execute_result"
    }
   ],
   "source": [
    "1000 in toilet_paper.values()"
   ]
  },
  {
   "cell_type": "markdown",
   "metadata": {},
   "source": [
    "#### 3.4 Replace, Append and Delete<a name=\"3.4\"></a>"
   ]
  },
  {
   "cell_type": "code",
   "execution_count": null,
   "metadata": {},
   "outputs": [],
   "source": []
  },
  {
   "cell_type": "markdown",
   "metadata": {},
   "source": [
    "### 4 Data Structure - Set <a name=\"3\"></a>"
   ]
  },
  {
   "cell_type": "markdown",
   "metadata": {},
   "source": [
    "#### 4.1 Definition and Set Creation<a name=\"3.1\"></a>"
   ]
  },
  {
   "cell_type": "markdown",
   "metadata": {},
   "source": [
    "##### 4.1.1 Definition <a name=\"4.1.1\"></a>\n",
    "- Unindexed and unordered \n",
    "- Do NOT allow duplicate values \n",
    "- They are written using `curly brackets {}`\n",
    "- Can have mixed types of data inside them, unless they are mutable \n",
    "- Sorted by alphabetical order\n",
    "\n"
   ]
  },
  {
   "cell_type": "code",
   "execution_count": null,
   "metadata": {},
   "outputs": [
    {
     "data": {
      "text/plain": [
       "{'Earth', 'Jupiter', 'Mars', 'Mercury', 'Neptune', 'Saturn', 'Uranus', 'Venus'}"
      ]
     },
     "execution_count": 5,
     "metadata": {},
     "output_type": "execute_result"
    }
   ],
   "source": [
    "planets = {\"Mercury\", \"Venus\", \"Earth\", \"Mars\", \"Jupiter\", \"Saturn\", \"Uranus\", \"Neptune\", \"Neptune\"}\n",
    "planets"
   ]
  },
  {
   "cell_type": "markdown",
   "metadata": {},
   "source": [
    "##### 4.1.2 Set creation <a name=\"4.1.2\"></a>\n",
    "\n",
    "An empty set can be created using the function __`set()`__\n",
    "\n",
    "**Note:** Remember that using empty curly brackets `{}` will create an empty dictionary and not a set."
   ]
  },
  {
   "cell_type": "code",
   "execution_count": null,
   "metadata": {},
   "outputs": [
    {
     "data": {
      "text/plain": [
       "(0, set)"
      ]
     },
     "execution_count": 6,
     "metadata": {},
     "output_type": "execute_result"
    }
   ],
   "source": [
    "this_set = set()\n",
    "len(this_set), type(this_set)"
   ]
  },
  {
   "cell_type": "markdown",
   "metadata": {},
   "source": [
    "#### 4.2 Accessing values in a set <a name=\"4.2\"></a>\n",
    "Sets are unindexed and unordered, meaning **you cannot** access a specific element in it. So the operations indexing and slicing are not permitted \n",
    "\n"
   ]
  },
  {
   "cell_type": "markdown",
   "metadata": {},
   "source": [
    "#### 4.3 Set size and Membership testing <a name=\"4.3\"></a>\n",
    "\n",
    "you can use the function __`len()`__ to get the number of elements in your set.\n"
   ]
  },
  {
   "cell_type": "code",
   "execution_count": null,
   "metadata": {},
   "outputs": [
    {
     "data": {
      "text/plain": [
       "8"
      ]
     },
     "execution_count": 7,
     "metadata": {},
     "output_type": "execute_result"
    }
   ],
   "source": [
    "len(planets)"
   ]
  },
  {
   "cell_type": "markdown",
   "metadata": {},
   "source": [
    "To check if an element exists in a set, you can again use the __`in`__ and __`not it`__ keywords. \n",
    "\n",
    "**Tip:** Since sets have unique values, searching for an element in this data structure is faster than in a list with duplicates."
   ]
  },
  {
   "cell_type": "code",
   "execution_count": null,
   "metadata": {},
   "outputs": [
    {
     "data": {
      "text/plain": [
       "False"
      ]
     },
     "execution_count": 8,
     "metadata": {},
     "output_type": "execute_result"
    }
   ],
   "source": [
    "\"Pluto\" in planets"
   ]
  },
  {
   "cell_type": "markdown",
   "metadata": {},
   "source": [
    "#### 4.4 Conversion between lists and sets <a name=\"4.4\"></a>\n",
    "You can convert a list to a set and vice-versa, simply using the __`set()`__ or __`list()`__ functions. "
   ]
  },
  {
   "cell_type": "code",
   "execution_count": null,
   "metadata": {},
   "outputs": [
    {
     "name": "stdout",
     "output_type": "stream",
     "text": [
      "['Venus', 'Saturn', 'Earth', 'Mars', 'Uranus', 'Jupiter', 'Mercury', 'Neptune']\n",
      "<class 'list'>\n"
     ]
    }
   ],
   "source": [
    "planets_list = list(planets)\n",
    "print(planets_list)\n",
    "print( type(planets_list) )"
   ]
  },
  {
   "cell_type": "code",
   "execution_count": null,
   "metadata": {},
   "outputs": [
    {
     "name": "stdout",
     "output_type": "stream",
     "text": [
      "{'paper', 'pencil', 'pen'}\n",
      "<class 'set'>\n"
     ]
    }
   ],
   "source": [
    "shopping_list = [\"pen\", \"pencil\", \"paper\", \"pencil\", \"pen\"]\n",
    "shopping_set = set(shopping_list)\n",
    "print(shopping_set)\n",
    "print( type(shopping_set) )"
   ]
  },
  {
   "cell_type": "markdown",
   "metadata": {},
   "source": [
    "#### 4.5 Modify sets <a name=\"4.5\"></a>\n",
    "We **cannot access specfic elements of a set by indexing or slicing**. But we can modify sets by adding new elements or removing them.\n",
    "\n",
    "To add a single element, we can use the __`add()`__ method, or if we want to add multiple elements, we can use the __`update()`__ method. This last method takes lists, strings, tuples or other sets of elements to add."
   ]
  },
  {
   "cell_type": "code",
   "execution_count": null,
   "metadata": {},
   "outputs": [
    {
     "data": {
      "text/plain": [
       "{'Earth', 'Mercury', 'Venus'}"
      ]
     },
     "execution_count": 11,
     "metadata": {},
     "output_type": "execute_result"
    }
   ],
   "source": [
    "terrestrial_planets = {\"Mercury\", \"Venus\", \"Earth\"}\n",
    "terrestrial_planets"
   ]
  },
  {
   "cell_type": "code",
   "execution_count": null,
   "metadata": {},
   "outputs": [
    {
     "data": {
      "text/plain": [
       "{'Earth', 'Mars', 'Mercury', 'Venus'}"
      ]
     },
     "execution_count": 12,
     "metadata": {},
     "output_type": "execute_result"
    }
   ],
   "source": [
    "terrestrial_planets.add(\"Mars\")\n",
    "terrestrial_planets"
   ]
  },
  {
   "cell_type": "code",
   "execution_count": null,
   "metadata": {},
   "outputs": [
    {
     "data": {
      "text/plain": [
       "{'Jupiter', 'Saturn'}"
      ]
     },
     "execution_count": 13,
     "metadata": {},
     "output_type": "execute_result"
    }
   ],
   "source": [
    "giant_planets = {\"Jupiter\", \"Saturn\"}\n",
    "giant_planets"
   ]
  },
  {
   "cell_type": "code",
   "execution_count": null,
   "metadata": {},
   "outputs": [
    {
     "data": {
      "text/plain": [
       "{'Jupiter', 'Neptune', 'Saturn', 'Uranus'}"
      ]
     },
     "execution_count": 14,
     "metadata": {},
     "output_type": "execute_result"
    }
   ],
   "source": [
    "giant_planets.update([\"Neptune\", \"Uranus\"])\n",
    "giant_planets"
   ]
  },
  {
   "cell_type": "markdown",
   "metadata": {},
   "source": [
    "To remove an element from a set, we can use the methods __`discard()`__ or __`remove()\n",
    "`__.\n",
    "The only difference between them is that the last one returns an error if the element does not exist in the set."
   ]
  },
  {
   "cell_type": "code",
   "execution_count": null,
   "metadata": {},
   "outputs": [
    {
     "data": {
      "text/plain": [
       "{'Earth',\n",
       " 'Jupiter',\n",
       " 'Mars',\n",
       " 'Mercury',\n",
       " 'Neptune',\n",
       " 'Pluto',\n",
       " 'Saturn',\n",
       " 'Uranus',\n",
       " 'Venus'}"
      ]
     },
     "execution_count": 15,
     "metadata": {},
     "output_type": "execute_result"
    }
   ],
   "source": [
    "planets = {\"Mercury\", \"Venus\", \"Earth\", \"Mars\", \"Jupiter\", \"Saturn\", \"Uranus\", \"Neptune\", \"Pluto\"}\n",
    "planets"
   ]
  },
  {
   "cell_type": "code",
   "execution_count": null,
   "metadata": {},
   "outputs": [
    {
     "data": {
      "text/plain": [
       "{'Earth', 'Jupiter', 'Mars', 'Mercury', 'Neptune', 'Saturn', 'Uranus', 'Venus'}"
      ]
     },
     "execution_count": 16,
     "metadata": {},
     "output_type": "execute_result"
    }
   ],
   "source": [
    "planets.remove(\"Pluto\")\n",
    "planets"
   ]
  },
  {
   "cell_type": "markdown",
   "metadata": {},
   "source": [
    "#### 4.6  Operations with sets <a name=\"4.6\"></a>\n",
    "You can compare the elements in two sets by checking their intersection or difference. For this you have the methods __`intersection()`__ (or the keyword __`&`__) and __`difference()`__ (or the keyword __`-`__).\n",
    "\n",
    "And you may also need to add the elements of two sets together. For this, you may use the method __`union()`__ or the keyword __`|`__."
   ]
  },
  {
   "cell_type": "code",
   "execution_count": null,
   "metadata": {},
   "outputs": [
    {
     "data": {
      "text/plain": [
       "{'Earth', 'Mars', 'Mercury', 'Venus'}"
      ]
     },
     "execution_count": 17,
     "metadata": {},
     "output_type": "execute_result"
    }
   ],
   "source": [
    "terrestrial_planets = {\"Earth\", \"Mars\", \"Mercury\", \"Venus\"}\n",
    "terrestrial_planets"
   ]
  },
  {
   "cell_type": "code",
   "execution_count": null,
   "metadata": {},
   "outputs": [
    {
     "data": {
      "text/plain": [
       "{'Earth', 'Neptune', 'Uranus'}"
      ]
     },
     "execution_count": 18,
     "metadata": {},
     "output_type": "execute_result"
    }
   ],
   "source": [
    "blue_planets = {\"Earth\", \"Uranus\", \"Neptune\"}\n",
    "blue_planets"
   ]
  },
  {
   "cell_type": "markdown",
   "metadata": {},
   "source": [
    "- __`intersection()`__"
   ]
  },
  {
   "cell_type": "code",
   "execution_count": null,
   "metadata": {},
   "outputs": [
    {
     "data": {
      "text/plain": [
       "{'Earth'}"
      ]
     },
     "execution_count": 19,
     "metadata": {},
     "output_type": "execute_result"
    }
   ],
   "source": [
    "# You can also write terrestrial_planets & blue_planets\n",
    "terrestrial_planets.intersection(blue_planets)"
   ]
  },
  {
   "cell_type": "markdown",
   "metadata": {},
   "source": [
    "- __`difference()`__"
   ]
  },
  {
   "cell_type": "code",
   "execution_count": null,
   "metadata": {},
   "outputs": [
    {
     "data": {
      "text/plain": [
       "{'Mars', 'Mercury', 'Venus'}"
      ]
     },
     "execution_count": 20,
     "metadata": {},
     "output_type": "execute_result"
    }
   ],
   "source": [
    "terrestrial_planets.difference(blue_planets)"
   ]
  },
  {
   "cell_type": "markdown",
   "metadata": {},
   "source": [
    "- __`union()`__"
   ]
  },
  {
   "cell_type": "code",
   "execution_count": null,
   "metadata": {},
   "outputs": [
    {
     "data": {
      "text/plain": [
       "{'Earth', 'Jupiter', 'Mars', 'Mercury', 'Neptune', 'Saturn', 'Uranus', 'Venus'}"
      ]
     },
     "execution_count": 21,
     "metadata": {},
     "output_type": "execute_result"
    }
   ],
   "source": [
    "all_planets = terrestrial_planets | giant_planets\n",
    "all_planets"
   ]
  },
  {
   "cell_type": "markdown",
   "metadata": {},
   "source": [
    "# Week 3 "
   ]
  },
  {
   "attachments": {},
   "cell_type": "markdown",
   "metadata": {},
   "source": [
    "## SLU05 - Git Intermediate"
   ]
  },
  {
   "cell_type": "markdown",
   "metadata": {},
   "source": [
    "### The Remote Repository "
   ]
  },
  {
   "attachments": {},
   "cell_type": "markdown",
   "metadata": {},
   "source": [
    "- Versions of your project that are hosted on the internet or network somewhere. \n",
    "- You can have several of them, and collaborating with others involves managing these remote repositories and pushing and pulling data to and from them when you need to share work  \n",
    "- Managing them includes knowing how to add remote repositories, remove the ones that are no longer valid, manage various remote branches and define them as being tracked or not \n",
    "- Most of the work you need to do related to version control happens on your local machine´s repository: staging, committing, viewing the status, log/history, and so on \n",
    "- The main purpose of is to place the repository in a central location so that it can be accessed by multiple developers, allowing: \n",
    "    - All developers to work in their local repository and have all modifications made and committed locally \n",
    "    - These changes can then be uploaded to the remote repository to share with others \n",
    "- You can check which repositories you have configured by using the command `git remote` If you do `git remote -v` it includes the URL of each connection \n",
    "\n"
   ]
  },
  {
   "attachments": {},
   "cell_type": "markdown",
   "metadata": {},
   "source": [
    "### Stash changes \n",
    "\n",
    "- `Git stash` saves all your staged and unstaged files (if you want to include untracked files you must add the `-u` or `- - include-untracked` option) and saves them. You are left with a repository in the same state as when you committed your lasted changes  \n",
    "- To get the changes out of your stash, you use the command `git stash pop`. The changes you stashed will be removed from the stash and applied to your local repository again. \n",
    "- You can store multiple stashes, do partial stashes, pop specific stashes, and much more \n",
    "\n"
   ]
  },
  {
   "attachments": {},
   "cell_type": "markdown",
   "metadata": {},
   "source": [
    "### Git branches \n",
    "\n",
    "- A branch is a parallel version of the code that can be modified without affecting the other versions. This is extremely useful for collaborative work, to introduce new features or anything else. \n",
    "- When you start a new repository you, by default, are in the Master or Main branch. \n",
    "    - All your pushes are going to this branch and you don´t need to specify it. \n",
    "    - If you create a new branch, the two branches will continue to co-exist on their own, independently of each other until you purposefully merge them together \n",
    "\n"
   ]
  },
  {
   "attachments": {},
   "cell_type": "markdown",
   "metadata": {},
   "source": [
    "#### Concept of main/master branch \n",
    "\n",
    "- The main branch is called main, although until very recently it was called master. The main branch is created by Git when you create the repository\n",
    "- All the changes you do in the other branches should, sooner or later, be integrated (called merging in git) into the master branch \n",
    "- Do not mess with the master, because is where your stable code lives, it's supposed to be your production-ready code, that you can deploy at any moment \n"
   ]
  },
  {
   "attachments": {},
   "cell_type": "markdown",
   "metadata": {},
   "source": [
    "#### Creating and switching branches \n",
    "\n",
    "- To create a new branch you should use `git branch branch_name`\n",
    "    - It creates a branch, but does not switch to you. You will continue to work in whatever branch you were in before\n",
    "    - To switch branches you should use the command `git checkout branch_name`\n",
    "    - You can also list the branches with the command `git branch`. The branch identified with an `*` is the currently active one\n",
    "- The command `git branch - b branch_name` creates a new branch and immediately makes it the active one, with the `-b` command. \n",
    "  \n",
    "                                                                                                "
   ]
  },
  {
   "attachments": {},
   "cell_type": "markdown",
   "metadata": {},
   "source": [
    "#### Pushing the branches to the remote\n",
    "\n",
    "- When you try to push a branch to the remote for the first time, you need to specify some extra options in the command. That’s because the remote still doesn’t know about the branch, it only exists in the local repository \n",
    "- The syntax for pushing a branch that does not exist in the remote is git push - - set - upstream origin branch_name. After the branch is created in the remote repository, a git push is enough to then update the remote \n",
    "- When you create a new branch, it becomes a snapshot of the branch you created it from (where you “branched off”) the commits you have in the current branch will be “copied” to the new branch. After that, all commits done to one branch or the other, stay in that branch. You don’t always need to create branches bases on master/main since you can create a branch from any other branch\n",
    "\n"
   ]
  },
  {
   "attachments": {},
   "cell_type": "markdown",
   "metadata": {},
   "source": [
    "#### Merging branches \n",
    "\n",
    "- The integration of branches is called merging and is done with the `git merge` command \n",
    "- Merging operations: \n",
    "    - You should checkout from the branch that you want to merge into \n",
    "    - You call `git merge` with the name of the branch you want to be merged with \n",
    "- Fast -forward merge: `git checkout master / git merge feature_a_books` \n",
    "    - A fast-forward merge can happen when master do not have any extra commits compared to the branch \n",
    "- 3 way merge: when there isn’t a linear path from master to the branch. The branches have diverged and now master has an extra commit to make \n"
   ]
  },
  {
   "attachments": {},
   "cell_type": "markdown",
   "metadata": {},
   "source": [
    "##### Merging conflicts\n",
    "\n",
    "- Common situations that could cause merge conflicts: \n",
    "    - The branches you are trying to merge have changes in the same line of the same file \n",
    "    - One branch deleted a file, and the other branch made modifications to that file \n",
    "\n"
   ]
  },
  {
   "attachments": {},
   "cell_type": "markdown",
   "metadata": {},
   "source": [
    "##### Solving a merge conflict: \n",
    "- About the merge:\n",
    "    - If you have no clue why the conflict is happening or are not sure which version you want to keep, abort the merge and inspect the branches to gain some clarity. You abort a merge with the command `git merge - -abort`. Everything goes back to the state it was before      \n",
    "- Checkout ours: \n",
    "    - If you know that you want to keep the master version of the conflicted file and ignore the incoming changes, you see the command `git checkout --ours groceries.txt`. “Ours” just means the branch you're in.\n",
    "    - Even if you maintain your file with `checkout ours`, you still have to commit the file for the merge to be completed \n",
    "- Checkout theirs: \n",
    "    - If you know that you want to keep the version of the conflicted file and inora the file in the master, then you use the command `git checkout - -theirs groceries.txt`. “Theirs” just means the incoming branch\n",
    "    - You then have to commit the file for the merge to be completed \n",
    "- Edit the conflicted file: \n",
    "    - There are situations where you cannot simply choose ours or theirs: \n",
    "        -   If you are not sure what version to keep \n",
    "        -   Want to keep both changes \n",
    "        -   There are multiple conflicts within the file and for some of them you want to keep ours and others want to keep theirs \n",
    "    - In this case you edit the conflicted file with a text editor \n",
    "    - Git annotates the conflicted file with git conflict markers, marking the areas where it needs help deciding what to do\n",
    "    - You have to edit the file so that it looks exactly how you want it to. You have to get rid of the git conflict markers\n",
    "    - You then have to commit the file for the merge to be completed.\n",
    "- Although editing the file provides the most flexibility while merging, you'll find it tough to do it with jupyter notebook files. They are long `json` files, not easily read by human eyes. You're better off keeping to the `checkout ours` or `checkout theirs` methods.\n",
    "\n"
   ]
  },
  {
   "attachments": {},
   "cell_type": "markdown",
   "metadata": {},
   "source": [
    "### Collaboration \n",
    "Ways to collaborate: \n",
    "-   You contribute to the same repository, or \n",
    "-   You work in different repositories and combine them at the end\n"
   ]
  },
  {
   "attachments": {},
   "cell_type": "markdown",
   "metadata": {},
   "source": [
    "#### Create an issue\n",
    "\n",
    "One of the easiest ways to collaborate in a repository is through the creation of issues. You can use issues to track ideas, enhancements, tasks or bugs to work on GitHub. They are like an emails, sort of, associated with the remote repository\n",
    "- You have to define a header and the body of the issue (where you explain what’s wrong). You can assign collaborators, add labels\n",
    "- Always provide an actionable \n",
    "    - An actionable is a concrete request of action - it can be a solution proposal, a feedback request, a  bug fix.. It does not need to be in the solution, but it needs to be clear what action the assignee needs to do \n"
   ]
  },
  {
   "attachments": {},
   "cell_type": "markdown",
   "metadata": {},
   "source": [
    "#### Fork a repository \n",
    "\n",
    "If you want to contribute to an existing project to which you don't have push access, you can fork the project. When you “fork” a project, GitHub will make a copy of the project that is entirely yours; it lives in your namespace, and you can push to it \n",
    "\n",
    "To fork a project, visit the project page and click on the for “Fork” button at the top-right of the page. After a few seconds, you'll be taken to you your new project page, with your own writable copy of the code "
   ]
  },
  {
   "attachments": {},
   "cell_type": "markdown",
   "metadata": {},
   "source": [
    "#### Create a pull request\n",
    "\n",
    "Pull requests let you tell others about changes you’ve pushed to a branch in a repository on GitHub. Once a pull request is opened, you can discuss and review the potential changes with collaborators and add follow-up commits before your changes are merge into the base branch "
   ]
  },
  {
   "attachments": {},
   "cell_type": "markdown",
   "metadata": {},
   "source": [
    "#### The GitHub flow \n",
    "\n",
    "GitHub is designed around Pull Requests. This flows works whether you’re collaborating with a tightly-knit team in a single repository, or a globally-distributed company or a network of strangers contributing to a project through dozens of forks. \n"
   ]
  },
  {
   "attachments": {},
   "cell_type": "markdown",
   "metadata": {},
   "source": [
    "Here’s how it generally works: \n",
    "\n",
    "    - Fork the project \n",
    "    - Create a topic from the main/maister \n",
    "    - Make some commits to improve the project \n",
    "    - Push this branch to your GitHub project \n",
    "    - Open a Pull Request on GitHub \n",
    "    - Discuss, and optionally continue committing \n",
    "    - The project owner merges or closes the pull request  \n",
    "    - Sync the updated main master back to your fork \n"
   ]
  },
  {
   "attachments": {},
   "cell_type": "markdown",
   "metadata": {},
   "source": [
    "## SLU06 (Pt 1) - Flow Control: Conditions "
   ]
  },
  {
   "attachments": {},
   "cell_type": "markdown",
   "metadata": {},
   "source": [
    "### Comparasion operators \n",
    "\n",
    "The equal operator `( == )` tests if two values are equal. Do not confuse with the assignment operator `=`\n",
    "\n",
    "`print(\"Is 1 == 1? \", 1 == 1)`\n",
    "\n",
    "`print(\"Is 1 == 2? \", 1 == 2)`\n"
   ]
  },
  {
   "attachments": {},
   "cell_type": "markdown",
   "metadata": {},
   "source": [
    "## SLU06 (Pt 2) - Flow Control: Iterations"
   ]
  },
  {
   "cell_type": "markdown",
   "metadata": {},
   "source": [
    "\n",
    "- [1. Repeating executions with `while` and `for` loops](#Repeating-executions-with-loops)\n",
    "- [2. Interrupting loops with the `continue` and `break` statements](#Interrupting-loops-with-the-continue-and-break-statements)\n",
    "- [3. Building lists with *list comprehension*](#Building-lists-with-List-comprehension)"
   ]
  },
  {
   "attachments": {},
   "cell_type": "markdown",
   "metadata": {},
   "source": [
    "### <a name=\"Repeating-executions-with-loops\"></a>1. Repeating executions with loops\n",
    " "
   ]
  },
  {
   "attachments": {},
   "cell_type": "markdown",
   "metadata": {},
   "source": [
    "#### `while` loop\n"
   ]
  },
  {
   "cell_type": "markdown",
   "metadata": {},
   "source": [
    "The `while` loop will execute the indented code until the condition is `False`.\n",
    "\n",
    "```python\n",
    "while condition:\n",
    "    code to repeat\n",
    "```"
   ]
  },
  {
   "cell_type": "markdown",
   "metadata": {},
   "source": [
    "The `while` statement is composed of the elements:\n",
    "\n",
    "1. `while` keyword;\n",
    "2. one or more white spaces;\n",
    "3. a condition;\n",
    "4. a colon `:` and a newline;\n",
    "5. indented instruction(s) (aka loop's body) to execute. At least one instruction is necessary."
   ]
  },
  {
   "cell_type": "markdown",
   "metadata": {},
   "source": [
    "The `while` statement **repeats** the code execution as long as the condition is `True`. \n",
    "\n",
    "After the code inside the *loop's body* is executed, Python checks if the condition remains `True`. If this is the case, it executes the *loop's* body again. This process repeats until the condition is `False`. We call each repetition of the execution a **loop iteration**. We'll see the term *iteration* and *iterates* a lot. Basically, each time the *loop's body* is executed we have another *iteration* of that loop. *Iterating* means repeating the *loop´s body*."
   ]
  },
  {
   "cell_type": "markdown",
   "metadata": {},
   "source": [
    "```python\n",
    "while True:\n",
    "    print(\"This will never stop.\")\n",
    "```"
   ]
  },
  {
   "cell_type": "code",
   "execution_count": null,
   "metadata": {},
   "outputs": [],
   "source": [
    "#Number to be divided. You can change it to see the result.\n",
    "from itertools import count\n",
    "\n",
    "\n",
    "dividend = 20\n",
    "#Counter used to store the number of divisions performed.\n",
    "counter = 0\n",
    "\n",
    "while dividend >= 2:\n",
    "    # /= divides the variable by a value and assigns the result to that variable \n",
    "    dividend /= 3 \n",
    "    # += lets you add two values together and assign the resultant value to a variable.\n",
    "    # A division was performed. The counter of the number of divisions goes up by one.\n",
    "    counter += 1\n",
    "    \n",
    "    #Uncomment the following print to see the value of the dividend as it is divided.\n",
    "    print(dividend)\n",
    "    \n",
    "print(\"It can be divided {} time{}.\".format(counter, \"s\" * int(counter > 1)))\n"
   ]
  },
  {
   "cell_type": "markdown",
   "metadata": {},
   "source": [
    "Of course the `while` condition can be `False` from the beginning. In this case the loop's body is **not execute even once.**"
   ]
  },
  {
   "cell_type": "code",
   "execution_count": null,
   "metadata": {},
   "outputs": [],
   "source": [
    "condition = False\n",
    "while condition:\n",
    "    print(\"This string is not printed!\")"
   ]
  },
  {
   "attachments": {},
   "cell_type": "markdown",
   "metadata": {},
   "source": [
    " ### `for` loop"
   ]
  },
  {
   "cell_type": "markdown",
   "metadata": {},
   "source": [
    "When you know how many times you want to repeat the execution of the code, as in the last example, you can use a `for` loop.\n",
    "\n",
    "```python\n",
    "for index in iterable:\n",
    "    code\n",
    "\n",
    "```"
   ]
  },
  {
   "cell_type": "markdown",
   "metadata": {},
   "source": [
    "A `for` loop is composed of the elements:\n",
    "\n",
    "1. `for` keyword\n",
    "2. a space\n",
    "3. a control variable\n",
    "4. the `in` keyword\n",
    "5. a space\n",
    "6. an iterable (I'll explain briefly)\n",
    "7. a colon `:`\n",
    "8. indented code (aka loop's body) starting in the next line\n",
    "\n",
    "The control variable (`index` in this case) controls how many times the loop is executed. After every cycle the value of the control variable is **updated automatically**. You can name it as you like.\n",
    "\n",
    "The iterable can be any container with multiple elements that the **`for` loop can access one by one**. Each time a new element is accessed, its **value is assigned to the control variable automatically and the code is executed again**."
   ]
  },
  {
   "cell_type": "markdown",
   "metadata": {},
   "source": [
    "A frequently used iterable is the `range` sequence. It creates a specific sequence that can be iterated by `for` loop. Let's see an example:"
   ]
  },
  {
   "cell_type": "code",
   "execution_count": null,
   "metadata": {},
   "outputs": [],
   "source": [
    "for number in range(6):\n",
    "    print(number)"
   ]
  },
  {
   "cell_type": "markdown",
   "metadata": {},
   "source": [
    "The `range()` statement above creates a sequence of integers from 0 to 5. The `range()` statement has three parameters:\n",
    "\n",
    "- `start` \n",
    "- `end`\n",
    "- `step`\n",
    "\n",
    "These parameters are equivalent to the `start:end:step` on the list and tuple indexing. This means that the start integer is included in the sequence but the **end integer is excluded from the sequence, just like with indexing.**\n",
    "\n",
    "You can write the `range()` statement in three ways:\n",
    "\n",
    "1. Use only the `end` parameter: `range(end)`. The `start` is defaulted to 0 and the `step` is defaulted to 1.\n",
    "\n",
    "2. Use the `start` and `end` parameters: `range(start,end)`. The `step` is defaulted to 1.\n",
    "\n",
    "3. Use all three parameters: `range(start,end,step)`.\n",
    "\n",
    "Note: Technically speaking `range` is not actually a function but a [class]"
   ]
  },
  {
   "cell_type": "code",
   "execution_count": null,
   "metadata": {},
   "outputs": [],
   "source": [
    "for i in range(-2,-7,-1):\n",
    "    print(i)"
   ]
  },
  {
   "cell_type": "markdown",
   "metadata": {},
   "source": [
    "You can even use the control variable to index a list or tuple. Will see below another way of achieving the same result."
   ]
  },
  {
   "cell_type": "code",
   "execution_count": null,
   "metadata": {},
   "outputs": [],
   "source": [
    "groceries = [\"Eggs\", \"Milk\", \"Flour\", \"Carrots\", \"Napkins\", \"Olive Oil\"]\n",
    "storage = []\n",
    "\n",
    "for list_index in range(1,4):\n",
    "    storage.append(groceries[list_index])\n",
    "storage"
   ]
  },
  {
   "cell_type": "markdown",
   "metadata": {},
   "source": []
  },
  {
   "cell_type": "code",
   "execution_count": null,
   "metadata": {},
   "outputs": [],
   "source": []
  },
  {
   "cell_type": "markdown",
   "metadata": {},
   "source": [
    "## Aside learnings "
   ]
  },
  {
   "cell_type": "markdown",
   "metadata": {},
   "source": [
    "#### Escape Sequences\n",
    "`\\n:` insert a new line      \n",
    "`\\t:` insert a tab   \n",
    "` \" \" ` : insert a space    \n",
    "`\\\\`: backlash"
   ]
  },
  {
   "cell_type": "code",
   "execution_count": null,
   "metadata": {},
   "outputs": [],
   "source": [
    "print(\"Python \\n Formatting \\t hacks\")"
   ]
  },
  {
   "cell_type": "markdown",
   "metadata": {},
   "source": [
    "` %s ` : to perform concatenation of strings together"
   ]
  },
  {
   "cell_type": "code",
   "execution_count": null,
   "metadata": {},
   "outputs": [],
   "source": [
    "# declaring a string variable\n",
    "var1 = \"Geek!\"\n",
    "var2 = \"Geeks for Geeks\"\n",
    "  \n",
    "# append multiple strings within a string\n",
    "print(\"Hello %s Are you enjoying being at %s for preparations.\" % (var1, var2))"
   ]
  },
  {
   "cell_type": "markdown",
   "metadata": {},
   "source": []
  },
  {
   "cell_type": "markdown",
   "metadata": {},
   "source": [
    "#### Python version in Jupyter Notebook "
   ]
  },
  {
   "cell_type": "code",
   "execution_count": null,
   "metadata": {},
   "outputs": [],
   "source": [
    "from platform import python_version\n",
    "python_version()"
   ]
  },
  {
   "cell_type": "markdown",
   "metadata": {},
   "source": [
    "#### Dates"
   ]
  },
  {
   "cell_type": "code",
   "execution_count": null,
   "metadata": {},
   "outputs": [],
   "source": [
    "#Today's Date \n",
    "from datetime import date \n",
    "today = date.today()\n",
    "print(\"Today's date:\", today)"
   ]
  },
  {
   "cell_type": "code",
   "execution_count": null,
   "metadata": {},
   "outputs": [],
   "source": [
    "#Difference beteween dates  \n",
    "from datetime import date\n",
    "\n",
    "d1 = date(2014,7,2)\n",
    "d2 = date(2014, 7, 11)\n",
    "delta = d2 - d1 \n",
    "print(delta.days)"
   ]
  },
  {
   "cell_type": "markdown",
   "metadata": {},
   "source": [
    "#### Order of Operations\n",
    "`P`arentheses   \n",
    "`E`xponents     \n",
    "`M`ultiplication    \n",
    "`D`ivision  \n",
    "`A`ddition  \n",
    "`S`ubtraction"
   ]
  },
  {
   "cell_type": "markdown",
   "metadata": {},
   "source": [
    "`%` Modulo: remainder operator  \n",
    "`//` Integer Division  "
   ]
  },
  {
   "cell_type": "code",
   "execution_count": null,
   "metadata": {},
   "outputs": [],
   "source": [
    "var = input(\"something :\")\n",
    "print(var)"
   ]
  },
  {
   "cell_type": "code",
   "execution_count": null,
   "metadata": {},
   "outputs": [],
   "source": []
  }
 ],
 "metadata": {
  "kernelspec": {
   "display_name": "Python 3.10.5 64-bit",
   "language": "python",
   "name": "python3"
  },
  "language_info": {
   "codemirror_mode": {
    "name": "ipython",
    "version": 3
   },
   "file_extension": ".py",
   "mimetype": "text/x-python",
   "name": "python",
   "nbconvert_exporter": "python",
   "pygments_lexer": "ipython3",
   "version": "3.10.5"
  },
  "orig_nbformat": 4,
  "vscode": {
   "interpreter": {
    "hash": "c516e29b6c869ab5a3cad7ef99f042dbb764f083c1d5d0bac4ab7e596f4d21ed"
   }
  }
 },
 "nbformat": 4,
 "nbformat_minor": 2
}
